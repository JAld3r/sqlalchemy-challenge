{
 "cells": [
  {
   "cell_type": "code",
   "execution_count": 219,
   "metadata": {},
   "outputs": [],
   "source": [
    "%matplotlib inline\n",
    "from matplotlib import style\n",
    "style.use('fivethirtyeight')\n",
    "import matplotlib.pyplot as plt"
   ]
  },
  {
   "cell_type": "code",
   "execution_count": 220,
   "metadata": {},
   "outputs": [],
   "source": [
    "import numpy as np\n",
    "import pandas as pd\n",
    "import datetime as dt"
   ]
  },
  {
   "attachments": {},
   "cell_type": "markdown",
   "metadata": {},
   "source": [
    "# Reflect Tables into SQLAlchemy ORM"
   ]
  },
  {
   "cell_type": "code",
   "execution_count": 221,
   "metadata": {},
   "outputs": [],
   "source": [
    "# Python SQL toolkit and Object Relational Mapper\n",
    "import sqlalchemy\n",
    "from sqlalchemy.ext.automap import automap_base\n",
    "from sqlalchemy.orm import Session\n",
    "from sqlalchemy import create_engine, func, inspect\n",
    "from sqlalchemy import text"
   ]
  },
  {
   "cell_type": "code",
   "execution_count": 222,
   "metadata": {},
   "outputs": [],
   "source": [
    "# create engine to hawaii.sqlite\n",
    "engine = create_engine(\"sqlite:///Resources/hawaii.sqlite\", echo=False)\n",
    "conn = engine.connect()"
   ]
  },
  {
   "cell_type": "code",
   "execution_count": 223,
   "metadata": {},
   "outputs": [],
   "source": [
    "# reflect an existing database into a new model\n",
    "Base = automap_base()\n",
    "# reflect the tables\n",
    "Base.prepare(autoload_with=engine)"
   ]
  },
  {
   "cell_type": "code",
   "execution_count": 224,
   "metadata": {},
   "outputs": [
    {
     "data": {
      "text/plain": [
       "['measurement', 'station']"
      ]
     },
     "execution_count": 224,
     "metadata": {},
     "output_type": "execute_result"
    }
   ],
   "source": [
    "# View all of the classes that automap found\n",
    "Base.classes.keys()"
   ]
  },
  {
   "cell_type": "code",
   "execution_count": 225,
   "metadata": {},
   "outputs": [],
   "source": [
    "# Save references to each table\n",
    "measure = Base.classes.measurement\n",
    "station = Base.classes.station"
   ]
  },
  {
   "cell_type": "code",
   "execution_count": 226,
   "metadata": {},
   "outputs": [],
   "source": [
    "# Create our session (link) from Python to the DB\n",
    "session = Session(engine)"
   ]
  },
  {
   "attachments": {},
   "cell_type": "markdown",
   "metadata": {},
   "source": [
    "# Exploratory Precipitation Analysis"
   ]
  },
  {
   "cell_type": "code",
   "execution_count": 227,
   "metadata": {},
   "outputs": [
    {
     "data": {
      "text/plain": [
       "['measurement', 'station']"
      ]
     },
     "execution_count": 227,
     "metadata": {},
     "output_type": "execute_result"
    }
   ],
   "source": [
    "# get table names\n",
    "inspector = inspect(engine)\n",
    "inspector.get_table_names()"
   ]
  },
  {
   "cell_type": "code",
   "execution_count": 228,
   "metadata": {},
   "outputs": [
    {
     "name": "stdout",
     "output_type": "stream",
     "text": [
      "id INTEGER\n",
      "station TEXT\n",
      "date TEXT\n",
      "prcp FLOAT\n",
      "tobs FLOAT\n"
     ]
    }
   ],
   "source": [
    "# get column names and types\n",
    "columns = inspector.get_columns('measurement')\n",
    "for c in columns:\n",
    "    print(c['name'], c[\"type\"])"
   ]
  },
  {
   "cell_type": "code",
   "execution_count": 229,
   "metadata": {},
   "outputs": [
    {
     "data": {
      "text/plain": [
       "[('2017-08-23',)]"
      ]
     },
     "execution_count": 229,
     "metadata": {},
     "output_type": "execute_result"
    }
   ],
   "source": [
    "# Find the most recent date in the data set.\n",
    "recent_date = engine.execute(text('SELECT MAX(date) FROM measurement')).fetchall()\n",
    "recent_date"
   ]
  },
  {
   "cell_type": "code",
   "execution_count": 230,
   "metadata": {},
   "outputs": [
    {
     "data": {
      "text/html": [
       "<div>\n",
       "<style scoped>\n",
       "    .dataframe tbody tr th:only-of-type {\n",
       "        vertical-align: middle;\n",
       "    }\n",
       "\n",
       "    .dataframe tbody tr th {\n",
       "        vertical-align: top;\n",
       "    }\n",
       "\n",
       "    .dataframe thead th {\n",
       "        text-align: right;\n",
       "    }\n",
       "</style>\n",
       "<table border=\"1\" class=\"dataframe\">\n",
       "  <thead>\n",
       "    <tr style=\"text-align: right;\">\n",
       "      <th></th>\n",
       "      <th>Date</th>\n",
       "      <th>Precipitation</th>\n",
       "    </tr>\n",
       "  </thead>\n",
       "  <tbody>\n",
       "    <tr>\n",
       "      <th>0</th>\n",
       "      <td>2017-08-23</td>\n",
       "      <td>0.00</td>\n",
       "    </tr>\n",
       "    <tr>\n",
       "      <th>1</th>\n",
       "      <td>2017-08-23</td>\n",
       "      <td>0.00</td>\n",
       "    </tr>\n",
       "    <tr>\n",
       "      <th>2</th>\n",
       "      <td>2017-08-23</td>\n",
       "      <td>0.08</td>\n",
       "    </tr>\n",
       "    <tr>\n",
       "      <th>3</th>\n",
       "      <td>2017-08-23</td>\n",
       "      <td>0.45</td>\n",
       "    </tr>\n",
       "    <tr>\n",
       "      <th>4</th>\n",
       "      <td>2017-08-22</td>\n",
       "      <td>0.00</td>\n",
       "    </tr>\n",
       "  </tbody>\n",
       "</table>\n",
       "</div>"
      ],
      "text/plain": [
       "         Date  Precipitation\n",
       "0  2017-08-23           0.00\n",
       "1  2017-08-23           0.00\n",
       "2  2017-08-23           0.08\n",
       "3  2017-08-23           0.45\n",
       "4  2017-08-22           0.00"
      ]
     },
     "execution_count": 230,
     "metadata": {},
     "output_type": "execute_result"
    }
   ],
   "source": [
    "# Starting from the most recent data point in the database.\n",
    "recent_date\n",
    "# Calculate the date one year from the last date in data set.\n",
    "prev_yr = '2016-08-23'\n",
    "# Perform a query to retrieve the date and precipitation scores\n",
    "yr1_data_prec = engine.execute(text(\"\"\"SELECT date, prcp FROM measurement WHERE date BETWEEN '2016-08-23' AND '2017-08-23' ORDER BY date DESC\"\"\"))\n",
    "# Save the query results as a Pandas DataFrame. Explicitly set the column names\n",
    "# Sort the dataframe by date\n",
    "yr1_data_df = pd.DataFrame(yr1_data_prec)\n",
    "yr1_data_df.columns = ['Date','Precipitation']\n",
    "yr1_data_df.head()\n",
    "\n"
   ]
  },
  {
   "cell_type": "code",
   "execution_count": 231,
   "metadata": {},
   "outputs": [
    {
     "data": {
      "image/png": "[encoded data removed]",
      "text/plain": [
       "<Figure size 640x480 with 1 Axes>"
      ]
     },
     "metadata": {},
     "output_type": "display_data"
    }
   ],
   "source": [
    "# Use Pandas Plotting with Matplotlib to plot the data\n",
    "plt.plot(yr1_data_df['Date'], yr1_data_df['Precipitation'])\n",
    "plt.xlabel('Date')\n",
    "plt.ylabel('Inches')\n",
    "plt.title('Precipitation by Date')\n",
    "plt.xticks(rotation=90)\n",
    "plt.gca().xaxis.set_major_locator(plt.MaxNLocator(6))\n",
    "plt.show()"
   ]
  },
  {
   "cell_type": "code",
   "execution_count": 232,
   "metadata": {},
   "outputs": [
    {
     "data": {
      "text/html": [
       "<div>\n",
       "<style scoped>\n",
       "    .dataframe tbody tr th:only-of-type {\n",
       "        vertical-align: middle;\n",
       "    }\n",
       "\n",
       "    .dataframe tbody tr th {\n",
       "        vertical-align: top;\n",
       "    }\n",
       "\n",
       "    .dataframe thead th {\n",
       "        text-align: right;\n",
       "    }\n",
       "</style>\n",
       "<table border=\"1\" class=\"dataframe\">\n",
       "  <thead>\n",
       "    <tr style=\"text-align: right;\">\n",
       "      <th></th>\n",
       "      <th>Precipitation</th>\n",
       "    </tr>\n",
       "  </thead>\n",
       "  <tbody>\n",
       "    <tr>\n",
       "      <th>count</th>\n",
       "      <td>2021.000000</td>\n",
       "    </tr>\n",
       "    <tr>\n",
       "      <th>mean</th>\n",
       "      <td>0.177279</td>\n",
       "    </tr>\n",
       "    <tr>\n",
       "      <th>std</th>\n",
       "      <td>0.461190</td>\n",
       "    </tr>\n",
       "    <tr>\n",
       "      <th>min</th>\n",
       "      <td>0.000000</td>\n",
       "    </tr>\n",
       "    <tr>\n",
       "      <th>25%</th>\n",
       "      <td>0.000000</td>\n",
       "    </tr>\n",
       "    <tr>\n",
       "      <th>50%</th>\n",
       "      <td>0.020000</td>\n",
       "    </tr>\n",
       "    <tr>\n",
       "      <th>75%</th>\n",
       "      <td>0.130000</td>\n",
       "    </tr>\n",
       "    <tr>\n",
       "      <th>max</th>\n",
       "      <td>6.700000</td>\n",
       "    </tr>\n",
       "  </tbody>\n",
       "</table>\n",
       "</div>"
      ],
      "text/plain": [
       "       Precipitation\n",
       "count    2021.000000\n",
       "mean        0.177279\n",
       "std         0.461190\n",
       "min         0.000000\n",
       "25%         0.000000\n",
       "50%         0.020000\n",
       "75%         0.130000\n",
       "max         6.700000"
      ]
     },
     "execution_count": 232,
     "metadata": {},
     "output_type": "execute_result"
    }
   ],
   "source": [
    "# Use Pandas to calculate the summary statistics for the precipitation data\n",
    "yr1_summary = yr1_data_df['Precipitation'].describe().to_frame()\n",
    "yr1_summary.columns = ['Precipitation']\n",
    "yr1_summary"
   ]
  },
  {
   "attachments": {},
   "cell_type": "markdown",
   "metadata": {},
   "source": [
    "# Exploratory Station Analysis"
   ]
  },
  {
   "cell_type": "code",
   "execution_count": 233,
   "metadata": {},
   "outputs": [
    {
     "name": "stdout",
     "output_type": "stream",
     "text": [
      "9\n"
     ]
    }
   ],
   "source": [
    "# Design a query to calculate the total number of stations in the dataset\n",
    "station_count = engine.execute(text(\"\"\"SELECT COUNT(\"name\") FROM station\"\"\")).scalar()\n",
    "print(station_count)"
   ]
  },
  {
   "cell_type": "code",
   "execution_count": 234,
   "metadata": {},
   "outputs": [
    {
     "data": {
      "text/plain": [
       "[('USC00519281', 2772),\n",
       " ('USC00519397', 2724),\n",
       " ('USC00513117', 2709),\n",
       " ('USC00519523', 2669),\n",
       " ('USC00516128', 2612),\n",
       " ('USC00514830', 2202),\n",
       " ('USC00511918', 1979),\n",
       " ('USC00517948', 1372),\n",
       " ('USC00518838', 511)]"
      ]
     },
     "execution_count": 234,
     "metadata": {},
     "output_type": "execute_result"
    }
   ],
   "source": [
    "# Design a query to find the most active stations (i.e. which stations have the most rows?)\n",
    "# List the stations and their counts in descending order.\n",
    "station_activity = engine.execute(text(\"\"\"SELECT station, COUNT(\"id\") FROM measurement GROUP BY station ORDER BY count(id) DESC\"\"\")).fetchall()\n",
    "station_activity"
   ]
  },
  {
   "cell_type": "code",
   "execution_count": 235,
   "metadata": {},
   "outputs": [
    {
     "data": {
      "text/plain": [
       "[(54.0, 85.0, 71.66378066378067)]"
      ]
     },
     "execution_count": 235,
     "metadata": {},
     "output_type": "execute_result"
    }
   ],
   "source": [
    "# Using the most active station id from the previous query, calculate the lowest, highest, and average temperature.\n",
    "most_active = engine.execute(text(\"\"\"SELECT MIN(\"tobs\"), MAX(\"tobs\"), AVG(\"tobs\") FROM measurement WHERE station = 'USC00519281' \"\"\")).fetchall()\n",
    "most_active"
   ]
  },
  {
   "cell_type": "code",
   "execution_count": 240,
   "metadata": {},
   "outputs": [
    {
     "data": {
      "text/plain": [
       "[(80.0,),\n",
       " (79.0,),\n",
       " (81.0,),\n",
       " (79.0,),\n",
       " (78.0,),\n",
       " (77.0,),\n",
       " (77.0,),\n",
       " (80.0,),\n",
       " (80.0,),\n",
       " (75.0,),\n",
       " (73.0,),\n",
       " (78.0,),\n",
       " (77.0,),\n",
       " (78.0,),\n",
       " (80.0,),\n",
       " (80.0,),\n",
       " (78.0,),\n",
       " (78.0,),\n",
       " (78.0,),\n",
       " (73.0,),\n",
       " (74.0,),\n",
       " (80.0,),\n",
       " (79.0,),\n",
       " (77.0,),\n",
       " (80.0,),\n",
       " (76.0,),\n",
       " (79.0,),\n",
       " (75.0,),\n",
       " (79.0,),\n",
       " (78.0,),\n",
       " (79.0,),\n",
       " (78.0,),\n",
       " (78.0,),\n",
       " (76.0,),\n",
       " (74.0,),\n",
       " (77.0,),\n",
       " (78.0,),\n",
       " (79.0,),\n",
       " (79.0,),\n",
       " (77.0,),\n",
       " (80.0,),\n",
       " (78.0,),\n",
       " (78.0,),\n",
       " (78.0,),\n",
       " (77.0,),\n",
       " (79.0,),\n",
       " (79.0,),\n",
       " (79.0,),\n",
       " (79.0,),\n",
       " (75.0,),\n",
       " (76.0,),\n",
       " (73.0,),\n",
       " (72.0,),\n",
       " (71.0,),\n",
       " (77.0,),\n",
       " (79.0,),\n",
       " (78.0,),\n",
       " (79.0,),\n",
       " (77.0,),\n",
       " (79.0,),\n",
       " (77.0,),\n",
       " (78.0,),\n",
       " (78.0,),\n",
       " (78.0,),\n",
       " (78.0,),\n",
       " (77.0,),\n",
       " (74.0,),\n",
       " (75.0,),\n",
       " (76.0,),\n",
       " (73.0,),\n",
       " (76.0,),\n",
       " (74.0,),\n",
       " (77.0,),\n",
       " (76.0,),\n",
       " (76.0,),\n",
       " (74.0,),\n",
       " (75.0,),\n",
       " (75.0,),\n",
       " (75.0,),\n",
       " (75.0,),\n",
       " (71.0,),\n",
       " (63.0,),\n",
       " (70.0,),\n",
       " (68.0,),\n",
       " (67.0,),\n",
       " (77.0,),\n",
       " (74.0,),\n",
       " (77.0,),\n",
       " (76.0,),\n",
       " (76.0,),\n",
       " (75.0,),\n",
       " (76.0,),\n",
       " (75.0,),\n",
       " (73.0,),\n",
       " (75.0,),\n",
       " (73.0,),\n",
       " (75.0,),\n",
       " (74.0,),\n",
       " (75.0,),\n",
       " (74.0,),\n",
       " (75.0,),\n",
       " (73.0,),\n",
       " (75.0,),\n",
       " (73.0,),\n",
       " (73.0,),\n",
       " (74.0,),\n",
       " (70.0,),\n",
       " (72.0,),\n",
       " (70.0,),\n",
       " (67.0,),\n",
       " (67.0,),\n",
       " (69.0,),\n",
       " (70.0,),\n",
       " (68.0,),\n",
       " (69.0,),\n",
       " (69.0,),\n",
       " (66.0,),\n",
       " (65.0,),\n",
       " (68.0,),\n",
       " (62.0,),\n",
       " (75.0,),\n",
       " (70.0,),\n",
       " (69.0,),\n",
       " (76.0,),\n",
       " (76.0,),\n",
       " (74.0,),\n",
       " (73.0,),\n",
       " (71.0,),\n",
       " (74.0,),\n",
       " (74.0,),\n",
       " (72.0,),\n",
       " (71.0,),\n",
       " (72.0,),\n",
       " (74.0,),\n",
       " (69.0,),\n",
       " (67.0,),\n",
       " (72.0,),\n",
       " (70.0,),\n",
       " (64.0,),\n",
       " (63.0,),\n",
       " (63.0,),\n",
       " (62.0,),\n",
       " (70.0,),\n",
       " (70.0,),\n",
       " (62.0,),\n",
       " (62.0,),\n",
       " (63.0,),\n",
       " (65.0,),\n",
       " (69.0,),\n",
       " (77.0,),\n",
       " (70.0,),\n",
       " (74.0,),\n",
       " (69.0,),\n",
       " (72.0,),\n",
       " (71.0,),\n",
       " (69.0,),\n",
       " (71.0,),\n",
       " (71.0,),\n",
       " (72.0,),\n",
       " (72.0,),\n",
       " (69.0,),\n",
       " (70.0,),\n",
       " (66.0,),\n",
       " (65.0,),\n",
       " (69.0,),\n",
       " (68.0,),\n",
       " (68.0,),\n",
       " (68.0,),\n",
       " (59.0,),\n",
       " (60.0,),\n",
       " (70.0,),\n",
       " (73.0,),\n",
       " (75.0,),\n",
       " (64.0,),\n",
       " (59.0,),\n",
       " (59.0,),\n",
       " (62.0,),\n",
       " (68.0,),\n",
       " (70.0,),\n",
       " (73.0,),\n",
       " (79.0,),\n",
       " (75.0,),\n",
       " (65.0,),\n",
       " (70.0,),\n",
       " (74.0,),\n",
       " (70.0,),\n",
       " (70.0,),\n",
       " (71.0,),\n",
       " (71.0,),\n",
       " (71.0,),\n",
       " (69.0,),\n",
       " (61.0,),\n",
       " (67.0,),\n",
       " (65.0,),\n",
       " (72.0,),\n",
       " (71.0,),\n",
       " (73.0,),\n",
       " (72.0,),\n",
       " (77.0,),\n",
       " (73.0,),\n",
       " (67.0,),\n",
       " (62.0,),\n",
       " (64.0,),\n",
       " (67.0,),\n",
       " (66.0,),\n",
       " (81.0,),\n",
       " (69.0,),\n",
       " (66.0,),\n",
       " (67.0,),\n",
       " (69.0,),\n",
       " (66.0,),\n",
       " (68.0,),\n",
       " (65.0,),\n",
       " (74.0,),\n",
       " (69.0,),\n",
       " (72.0,),\n",
       " (73.0,),\n",
       " (72.0,),\n",
       " (71.0,),\n",
       " (76.0,),\n",
       " (77.0,),\n",
       " (76.0,),\n",
       " (74.0,),\n",
       " (68.0,),\n",
       " (73.0,),\n",
       " (71.0,),\n",
       " (74.0,),\n",
       " (75.0,),\n",
       " (70.0,),\n",
       " (67.0,),\n",
       " (71.0,),\n",
       " (67.0,),\n",
       " (74.0,),\n",
       " (77.0,),\n",
       " (78.0,),\n",
       " (67.0,),\n",
       " (70.0,),\n",
       " (69.0,),\n",
       " (69.0,),\n",
       " (74.0,),\n",
       " (78.0,),\n",
       " (71.0,),\n",
       " (67.0,),\n",
       " (68.0,),\n",
       " (67.0,),\n",
       " (76.0,),\n",
       " (69.0,),\n",
       " (72.0,),\n",
       " (76.0,),\n",
       " (68.0,),\n",
       " (72.0,),\n",
       " (74.0,),\n",
       " (70.0,),\n",
       " (67.0,),\n",
       " (72.0,),\n",
       " (60.0,),\n",
       " (65.0,),\n",
       " (75.0,),\n",
       " (70.0,),\n",
       " (75.0,),\n",
       " (70.0,),\n",
       " (79.0,),\n",
       " (75.0,),\n",
       " (70.0,),\n",
       " (67.0,),\n",
       " (74.0,),\n",
       " (70.0,),\n",
       " (75.0,),\n",
       " (76.0,),\n",
       " (77.0,),\n",
       " (74.0,),\n",
       " (74.0,),\n",
       " (74.0,),\n",
       " (69.0,),\n",
       " (68.0,),\n",
       " (76.0,),\n",
       " (74.0,),\n",
       " (71.0,),\n",
       " (71.0,),\n",
       " (74.0,),\n",
       " (74.0,),\n",
       " (74.0,),\n",
       " (74.0,),\n",
       " (80.0,),\n",
       " (74.0,),\n",
       " (72.0,),\n",
       " (75.0,),\n",
       " (80.0,),\n",
       " (76.0,),\n",
       " (76.0,),\n",
       " (77.0,),\n",
       " (75.0,),\n",
       " (75.0,),\n",
       " (75.0,),\n",
       " (75.0,),\n",
       " (72.0,),\n",
       " (74.0,),\n",
       " (74.0,),\n",
       " (74.0,),\n",
       " (76.0,),\n",
       " (74.0,),\n",
       " (75.0,),\n",
       " (73.0,),\n",
       " (79.0,),\n",
       " (75.0,),\n",
       " (72.0,),\n",
       " (72.0,),\n",
       " (74.0,),\n",
       " (72.0,),\n",
       " (72.0,),\n",
       " (77.0,),\n",
       " (71.0,),\n",
       " (73.0,),\n",
       " (76.0,),\n",
       " (77.0,),\n",
       " (76.0,),\n",
       " (76.0,),\n",
       " (79.0,),\n",
       " (81.0,),\n",
       " (76.0,),\n",
       " (78.0,),\n",
       " (77.0,),\n",
       " (74.0,),\n",
       " (75.0,),\n",
       " (78.0,),\n",
       " (78.0,),\n",
       " (69.0,),\n",
       " (72.0,),\n",
       " (74.0,),\n",
       " (74.0,),\n",
       " (76.0,),\n",
       " (80.0,),\n",
       " (80.0,),\n",
       " (76.0,),\n",
       " (76.0,),\n",
       " (76.0,),\n",
       " (77.0,),\n",
       " (77.0,),\n",
       " (77.0,),\n",
       " (82.0,),\n",
       " (75.0,),\n",
       " (77.0,),\n",
       " (75.0,),\n",
       " (76.0,),\n",
       " (81.0,),\n",
       " (82.0,),\n",
       " (81.0,),\n",
       " (76.0,),\n",
       " (77.0,),\n",
       " (82.0,),\n",
       " (83.0,),\n",
       " (77.0,),\n",
       " (77.0,),\n",
       " (77.0,),\n",
       " (76.0,),\n",
       " (76.0,),\n",
       " (79.0,)]"
      ]
     },
     "execution_count": 240,
     "metadata": {},
     "output_type": "execute_result"
    }
   ],
   "source": [
    "station1 = engine.execute(text(\"\"\"SELECT tobs AS Temperature FROM measurement WHERE date BETWEEN '2016-08-18' AND '2017-08-18' AND station = 'USC00519281'\"\"\")).fetchall()\n",
    "station1\n"
   ]
  },
  {
   "cell_type": "code",
   "execution_count": 241,
   "metadata": {},
   "outputs": [
    {
     "data": {
      "text/html": [
       "<div>\n",
       "<style scoped>\n",
       "    .dataframe tbody tr th:only-of-type {\n",
       "        vertical-align: middle;\n",
       "    }\n",
       "\n",
       "    .dataframe tbody tr th {\n",
       "        vertical-align: top;\n",
       "    }\n",
       "\n",
       "    .dataframe thead th {\n",
       "        text-align: right;\n",
       "    }\n",
       "</style>\n",
       "<table border=\"1\" class=\"dataframe\">\n",
       "  <thead>\n",
       "    <tr style=\"text-align: right;\">\n",
       "      <th></th>\n",
       "      <th>Temperature</th>\n",
       "    </tr>\n",
       "  </thead>\n",
       "  <tbody>\n",
       "    <tr>\n",
       "      <th>0</th>\n",
       "      <td>80.0</td>\n",
       "    </tr>\n",
       "    <tr>\n",
       "      <th>1</th>\n",
       "      <td>79.0</td>\n",
       "    </tr>\n",
       "    <tr>\n",
       "      <th>2</th>\n",
       "      <td>81.0</td>\n",
       "    </tr>\n",
       "    <tr>\n",
       "      <th>3</th>\n",
       "      <td>79.0</td>\n",
       "    </tr>\n",
       "    <tr>\n",
       "      <th>4</th>\n",
       "      <td>78.0</td>\n",
       "    </tr>\n",
       "    <tr>\n",
       "      <th>...</th>\n",
       "      <td>...</td>\n",
       "    </tr>\n",
       "    <tr>\n",
       "      <th>352</th>\n",
       "      <td>77.0</td>\n",
       "    </tr>\n",
       "    <tr>\n",
       "      <th>353</th>\n",
       "      <td>77.0</td>\n",
       "    </tr>\n",
       "    <tr>\n",
       "      <th>354</th>\n",
       "      <td>76.0</td>\n",
       "    </tr>\n",
       "    <tr>\n",
       "      <th>355</th>\n",
       "      <td>76.0</td>\n",
       "    </tr>\n",
       "    <tr>\n",
       "      <th>356</th>\n",
       "      <td>79.0</td>\n",
       "    </tr>\n",
       "  </tbody>\n",
       "</table>\n",
       "<p>357 rows × 1 columns</p>\n",
       "</div>"
      ],
      "text/plain": [
       "     Temperature\n",
       "0           80.0\n",
       "1           79.0\n",
       "2           81.0\n",
       "3           79.0\n",
       "4           78.0\n",
       "..           ...\n",
       "352         77.0\n",
       "353         77.0\n",
       "354         76.0\n",
       "355         76.0\n",
       "356         79.0\n",
       "\n",
       "[357 rows x 1 columns]"
      ]
     },
     "execution_count": 241,
     "metadata": {},
     "output_type": "execute_result"
    }
   ],
   "source": [
    "station1_df = pd.DataFrame(station1)\n",
    "station1_df"
   ]
  },
  {
   "cell_type": "code",
   "execution_count": 243,
   "metadata": {},
   "outputs": [
    {
     "data": {
      "image/png": "[encoded data removed]",
      "text/plain": [
       "<Figure size 640x480 with 1 Axes>"
      ]
     },
     "metadata": {},
     "output_type": "display_data"
    }
   ],
   "source": [
    "# Using the most active station id\n",
    "# Query the last 12 months of temperature observation data for this station and plot the results as a histogram\n",
    "plt.hist(station1_df['Temperature'], bins=12, color='blue')\n",
    "plt.xlabel(\"Temperature\")\n",
    "plt.ylabel(\"Frequency\")\n",
    "plt.grid(True)\n",
    "plt.show()"
   ]
  },
  {
   "attachments": {},
   "cell_type": "markdown",
   "metadata": {},
   "source": [
    "# Close Session"
   ]
  },
  {
   "cell_type": "code",
   "execution_count": 244,
   "metadata": {},
   "outputs": [],
   "source": [
    "# Close Session\n",
    "session.close()"
   ]
  },
  {
   "cell_type": "code",
   "execution_count": null,
   "metadata": {},
   "outputs": [],
   "source": []
  }
 ],
 "metadata": {
  "anaconda-cloud": {},
  "kernel_info": {
   "name": "python3"
  },
  "kernelspec": {
   "display_name": "Python 3 (ipykernel)",
   "language": "python",
   "name": "python3"
  },
  "language_info": {
   "codemirror_mode": {
    "name": "ipython",
    "version": 3
   },
   "file_extension": ".py",
   "mimetype": "text/x-python",
   "name": "python",
   "nbconvert_exporter": "python",
   "pygments_lexer": "ipython3",
   "version": "3.9.13"
  },
  "nteract": {
   "version": "0.12.3"
  },
  "varInspector": {
   "cols": {
    "lenName": 16,
    "lenType": 16,
    "lenVar": 40
   },
   "kernels_config": {
    "python": {
     "delete_cmd_postfix": "",
     "delete_cmd_prefix": "del ",
     "library": "var_list.py",
     "varRefreshCmd": "print(var_dic_list())"
    },
    "r": {
     "delete_cmd_postfix": ") ",
     "delete_cmd_prefix": "rm(",
     "library": "var_list.r",
     "varRefreshCmd": "cat(var_dic_list()) "
    }
   },
   "types_to_exclude": [
    "module",
    "function",
    "builtin_function_or_method",
    "instance",
    "_Feature"
   ],
   "window_display": false
  }
 },
 "nbformat": 4,
 "nbformat_minor": 2
}
